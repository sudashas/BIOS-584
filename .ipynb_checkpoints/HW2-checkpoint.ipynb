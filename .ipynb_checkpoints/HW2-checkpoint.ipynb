{
 "cells": [
  {
   "cell_type": "markdown",
   "id": "3acfb3c5-ce4b-4857-af74-0eb13f316abb",
   "metadata": {},
   "source": [
    "### Please submit as an HTML or PDF file\n",
    "\n",
    "Print your name (First Name Last Name) below"
   ]
  },
  {
   "cell_type": "code",
   "execution_count": null,
   "id": "b41fa10b-6a6c-4b5d-b895-091b9159a4ac",
   "metadata": {},
   "outputs": [],
   "source": []
  },
  {
   "cell_type": "markdown",
   "id": "d4ea6acb-6d03-43d4-89bd-545a324de185",
   "metadata": {},
   "source": [
    "## 1. Prerequisites\n",
    "* Install `openpyxl` package in PyCharm. (1') <br>\n",
    "* Import `pandas` and `matplotlib` packages. (1')\n",
    "    * For `pandas`, rename it as `pd`.\n",
    "    * For `matplotlib`, find its `pyplot` module and rename it as `plt`."
   ]
  },
  {
   "cell_type": "markdown",
   "id": "12536263-e8c5-4093-b4dd-c02f0a3db83f",
   "metadata": {},
   "source": [
    "* Take a snapshot and attach it below to show that you have `openpyxl` properly installed. (1')"
   ]
  },
  {
   "cell_type": "markdown",
   "id": "615b7298-3f86-4a74-942c-d276aea6de26",
   "metadata": {},
   "source": []
  },
  {
   "cell_type": "code",
   "execution_count": 1,
   "id": "aad9339b-474a-45c2-94d4-225b41309ef6",
   "metadata": {},
   "outputs": [],
   "source": [
    "# Note: you do not need to explicitly import openpyxl because it is loaded in the backend once you import pandas."
   ]
  },
  {
   "cell_type": "markdown",
   "id": "ad2bb025-cd91-46cc-98ee-c5f1282f58e7",
   "metadata": {},
   "source": [
    "## 2. Overview on the Dataset\n",
    "\n",
    "Open `PTSD dataset.xlsx` in the \"data\" folder\n",
    "\n",
    "* Read it as a pandas object called `ptsd_df`, choose the sheet named `main_dataset`. (1')\n",
    "* Note: This is a clinical dataset to study the PTSD from my past collaboration. The PI, Dr. Boadie Dunlop has kindly agreed to share it with me for educational purposes. For more information, check the paper below.\n",
    "    * [Effect of agreement between clinician-rated and patient-reported PTSD symptoms on intensive outpatient treatment outcomes](https://doi.org/10.1016/j.psychres.2024.116287)"
   ]
  },
  {
   "cell_type": "code",
   "execution_count": 9,
   "id": "183bf300-35d7-43aa-9532-68c92794149e",
   "metadata": {},
   "outputs": [],
   "source": []
  },
  {
   "cell_type": "markdown",
   "id": "45e80d3b-1912-4adb-bf8e-6a3a3353da64",
   "metadata": {},
   "source": [
    "* Find and print the number of rows and columns. (1')\n",
    "* Please fill in the blank: This dataset contains ( ) rows and ( ) columns."
   ]
  },
  {
   "cell_type": "code",
   "execution_count": null,
   "id": "6413ba89-bd19-48d0-8d41-c69a2167bfc9",
   "metadata": {},
   "outputs": [],
   "source": []
  },
  {
   "cell_type": "markdown",
   "id": "07baf8e0-bdf1-42aa-a76e-da8fd946f4b9",
   "metadata": {},
   "source": [
    "* Find the variable names of the dataset, assign it to a variable name `ptsd_col_name`. (1')\n",
    "* Print out the type of the variable `ptsd_col_name`. (1')\n",
    "* Convert it to a list without changing the variable name and confirm the type as a list. (2')\n",
    "* Print out `ptsd_col_name`. (1')\n",
    "* Find and print out the first item of the `ptsd_col_name`. (1')\n",
    "* Find and print out the index corresponding to the variable `pcl5_score_intake`. (1')"
   ]
  },
  {
   "cell_type": "code",
   "execution_count": null,
   "id": "94959a05-15c5-4c4a-a500-7c4f8f79b755",
   "metadata": {},
   "outputs": [],
   "source": []
  },
  {
   "cell_type": "markdown",
   "id": "68429dfc-d025-4ae4-bf7b-8a1ee0a3a79c",
   "metadata": {},
   "source": [
    "## 3. Descriptive Statistics and Visualization\n",
    "\n",
    "* Compute and print out descriptive statistics of `pcl5_score_intake`.\n",
    "    * Directly type the name such as `df[\"col_name\"]`. (1')\n",
    "    * Use `ptsd_col_name` with an index to extract the column `pcl5_score_intake`. (1')"
   ]
  },
  {
   "cell_type": "code",
   "execution_count": null,
   "id": "2085f49d-ef5c-4e81-a31d-59919e7e3cfa",
   "metadata": {},
   "outputs": [],
   "source": []
  },
  {
   "cell_type": "markdown",
   "id": "893c3559-d86a-4d09-905c-6676d067052f",
   "metadata": {},
   "source": [
    "* Generate a scatter plot that shows `pcl5_score_intake` in the y-axis and `age_iop` in the x-axis.\n",
    "    * `pcl5_score_intake` refers to \"PCL5 Score at Intake\", while `age_iop` refers to \"Age\".\n",
    "    * Extract columns to create two variables named `age` and `pcl5_score_intake`, respectively. (1')\n",
    "    * Generate the scatter plot. (1')\n",
    "    * Label both x and y axes properly and the title as \"Scatter Plot\". (1')\n",
    "    * Show the plot. (1')"
   ]
  },
  {
   "cell_type": "code",
   "execution_count": null,
   "id": "e85d6090-4c62-4299-a2ef-034bf494498a",
   "metadata": {},
   "outputs": [],
   "source": []
  },
  {
   "cell_type": "markdown",
   "id": "f4378f3b-7bb2-4018-87ed-e23213b2246c",
   "metadata": {},
   "source": [
    "* Provide a frequency table of `gender_code`. (1')"
   ]
  },
  {
   "cell_type": "code",
   "execution_count": null,
   "id": "0e238a93-4fff-48a3-b5fe-fb65f83dd527",
   "metadata": {},
   "outputs": [],
   "source": []
  },
  {
   "cell_type": "markdown",
   "id": "ce5975b3-e8d9-4935-a691-e42640364177",
   "metadata": {},
   "source": [
    "* Provide a contingency table between `gender_code` and `race_code`. (1')"
   ]
  },
  {
   "cell_type": "code",
   "execution_count": null,
   "id": "8e06f010-9850-4697-ab69-bdcf16034ea5",
   "metadata": {},
   "outputs": [],
   "source": []
  },
  {
   "cell_type": "markdown",
   "id": "677ebdbc-b7ec-40a9-8f65-ed21bb80894f",
   "metadata": {},
   "source": [
    "Save it as `HW2.html` or `HW2.pdf` and upload it to Canvas."
   ]
  }
 ],
 "metadata": {
  "kernelspec": {
   "display_name": "Python 3 (ipykernel)",
   "language": "python",
   "name": "python3"
  },
  "language_info": {
   "codemirror_mode": {
    "name": "ipython",
    "version": 3
   },
   "file_extension": ".py",
   "mimetype": "text/x-python",
   "name": "python",
   "nbconvert_exporter": "python",
   "pygments_lexer": "ipython3",
   "version": "3.11.4"
  }
 },
 "nbformat": 4,
 "nbformat_minor": 5
}
