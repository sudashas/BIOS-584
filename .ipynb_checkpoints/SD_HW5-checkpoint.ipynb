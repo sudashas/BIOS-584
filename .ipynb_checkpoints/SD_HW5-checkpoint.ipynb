{
 "cells": [
  {
   "attachments": {},
   "cell_type": "markdown",
   "metadata": {},
   "source": [
    "# HW5 (20')"
   ]
  },
  {
   "attachments": {},
   "cell_type": "markdown",
   "metadata": {},
   "source": [
    "## Submit as an HTML or PDF file\n",
    "\n",
    "<font size='4'>\n",
    "\n",
    "A note for PDF file: <br>\n",
    "It seems that we cannot directly save the Jupyter notebook as a PDF file due to a package loading error. <br>\n",
    "One way to achieve it is to: <br>\n",
    "<span style=\"color:red\">Convert it to an HTML file -> Open the HTML file -> Right Click -> Print -> Save as PDF.</span> <br>\n",
    "At least that is how I print out Quiz 2.\n",
    " \n",
    "Print your name (First Name and Last Name) below."
   ]
  },
  {
   "cell_type": "code",
   "execution_count": 1,
   "metadata": {},
   "outputs": [
    {
     "name": "stdout",
     "output_type": "stream",
     "text": [
      "Suhas Das\n"
     ]
    }
   ],
   "source": [
    "print('Suhas Das')"
   ]
  },
  {
   "cell_type": "markdown",
   "metadata": {},
   "source": [
    "## 0. Make sure you sync forks and fetch origin the GitHub repository.\n",
    "\n",
    "- In particular, you should see three folders `data`, `figures`, and `lecture notes` under your `XXX/GitHub/BIOS-584` folder."
   ]
  },
  {
   "cell_type": "markdown",
   "metadata": {},
   "source": [
    "## 1. Play with `os` library and basic commands (13')"
   ]
  },
  {
   "attachments": {},
   "cell_type": "markdown",
   "metadata": {},
   "source": [
    "- Import `numpy` and `pandas` library with proper aliases.\n",
    "- Import a new library named `os` (1')\n",
    "- This is the \"operating system\" library\n",
    "    - Helpful for managing folders and special variables\n",
    "    - No need to install\n",
    "    - No need to rename"
   ]
  },
  {
   "cell_type": "code",
   "execution_count": 1,
   "metadata": {},
   "outputs": [],
   "source": [
    "# Write your own code\n",
    "import numpy as np \n",
    "import pandas as pd \n",
    "import os"
   ]
  },
  {
   "cell_type": "markdown",
   "metadata": {},
   "source": [
    "- Use the new command `os.getcwd()` to show you the current working directory (CWD) in your computer\n",
    "    - Usually refers to the folder where your Jupyter notebook is stored.\n",
    "    - Assign `os.getcwd()` to a variable called `current_dir` and print it out. (1')\n",
    "    - Note that `current_dir` is a string variable. You can use `type(current_dir)` function or `isinstance(current_dir, str)` to verify."
   ]
  },
  {
   "cell_type": "code",
   "execution_count": 3,
   "metadata": {},
   "outputs": [
    {
     "name": "stdout",
     "output_type": "stream",
     "text": [
      "/Users/suhasdas/Documents/GitHub/BIOS-584\n"
     ]
    },
    {
     "data": {
      "text/plain": [
       "True"
      ]
     },
     "execution_count": 3,
     "metadata": {},
     "output_type": "execute_result"
    }
   ],
   "source": [
    "# Write your own code\n",
    "current_dir = os.getcwd()\n",
    "print(current_dir)\n",
    "isinstance(current_dir, str)"
   ]
  },
  {
   "cell_type": "markdown",
   "metadata": {},
   "source": [
    "- After getting the working directory, check the contents in the cwd.\n",
    "- Use the command `os.listdir()` to show you a list of all relevant files under your CWD.\n",
    "- Assign `os.listdir()` to a variable called `files_ls`. (1')\n",
    "- Use a for loop to iterately show the variable name of the entire list. (1')\n",
    "    - Each row will display one file name.\n",
    "    - Each student will have different results."
   ]
  },
  {
   "cell_type": "code",
   "execution_count": 5,
   "metadata": {},
   "outputs": [
    {
     "name": "stdout",
     "output_type": "stream",
     "text": [
      "week-04-additional-list-and-for-loop.ipynb\n",
      "lecture notes\n",
      "LICENSE\n",
      "quiz1.html\n",
      "PTSD_dataset.xlsx\n",
      "week-05-application-simulation.ipynb\n",
      "week-03-boolean-if-else.ipynb\n",
      "week-02-jupyter.ipynb\n",
      "quiz1_preparation.html\n",
      "HW1.py\n",
      "test2.py\n",
      "README.md\n",
      "SD_HW3.ipynb\n",
      "HW5.ipynb\n",
      "HW1.ipynb\n",
      "figures\n",
      ".venv\n",
      "quiz1_preparation.ipynb\n",
      "Quiz1.ipynb\n",
      "week-02-variables-lists.ipynb\n",
      ".ipynb_checkpoints\n",
      "week-03-maths-arrays-random.ipynb\n",
      ".git\n",
      "data\n",
      "test.ipynb\n",
      "HW2.ipynb\n",
      "wk2inclass.py\n",
      "SD_HW4.ipynb\n",
      ".idea\n"
     ]
    }
   ],
   "source": [
    "# Write your own code\n",
    "files_ls = os.listdir()\n",
    "\n",
    "for i in files_ls: \n",
    "    print(i)"
   ]
  },
  {
   "cell_type": "markdown",
   "metadata": {},
   "source": [
    "- You should see a folder called `figures`. We will explore what it is.\n",
    "- Change the working directory as the path to folder `figures` using the command `os.chdir()`.\n",
    "    - Recall that the current working directory is stored using `os.getcwd()` and the output is a string.\n",
    "- Use the format `\"{}/figures\".format(current_dir)` to create the new working directory. Assign the new string to `current_dir_2`  (1')\n",
    "- Verify your previous step using `os.getcwd()` and print it out. (1')\n",
    "- Print out all files under the new directory (No need to use the for loop). (1')"
   ]
  },
  {
   "cell_type": "code",
   "execution_count": 12,
   "metadata": {},
   "outputs": [
    {
     "name": "stdout",
     "output_type": "stream",
     "text": [
      "/Users/suhasdas/Documents/GitHub/BIOS-584/figures\n",
      "/Users/suhasdas/Documents/GitHub/BIOS-584/figures\n",
      "quiz1_prep_2.png\n",
      "quiz1_prep_3.png\n",
      "quiz1_prep_1.png\n",
      "python_kernel.png\n",
      "quiz1_prep_4.png\n",
      "project_flow.png\n",
      "quiz1_q8.png\n",
      "quiz1_q9.png\n",
      "quiz1_prep_5.png\n",
      "elif.png\n",
      "forloop.png\n",
      "grading_scale.png\n",
      "pycharm_shortcut_package.png\n",
      "if.png\n",
      "ifelse.png\n",
      "quiz1_q7.png\n",
      "quiz1_q6.png\n",
      "quiz1_q4.png\n",
      "quiz1_q5.png\n",
      "quiz1_q1.png\n",
      "quiz1_q2.png\n",
      "quiz1_q3.png\n"
     ]
    }
   ],
   "source": [
    "# Write your own code\n",
    "current_dir_2 = \"{}/figures\".format(current_dir) \n",
    "print(current_dir_2)\n",
    "\n",
    "os.chdir(current_dir_2) \n",
    "\n",
    "print(os.getcwd())\n",
    "for i in os.listdir():\n",
    "    print(i)"
   ]
  },
  {
   "cell_type": "markdown",
   "metadata": {},
   "source": [
    "- Change your working directory back to the original one and verify it (no need to show the files under original directory). (1')\n",
    "    - For Madeline: Since each student has different directories, for this specific problem, check whether this directory is the same as the initial one. If yes, give them the full credit."
   ]
  },
  {
   "cell_type": "code",
   "execution_count": 13,
   "metadata": {},
   "outputs": [
    {
     "name": "stdout",
     "output_type": "stream",
     "text": [
      "/Users/suhasdas/Documents/GitHub/BIOS-584\n"
     ]
    }
   ],
   "source": [
    "# Write your own code\n",
    "os.chdir(current_dir)\n",
    "print(os.getcwd())"
   ]
  },
  {
   "cell_type": "markdown",
   "metadata": {},
   "source": [
    "- After we change the working directory back to the original one, we learn how to create a new directory (or a new folder).\n",
    "    - Create a new folder named `hw5_extension` under the current working directory.\n",
    "    - Create a string following the format `\"{}/hw5_extension\".format(current_dir)` and use the new command `os.mkdir()`. (1')\n",
    "    - Note that we do not need to assign `os.mkdir()` to a variable. `xxx = os.mkdir()` is wrong.\n",
    "    - If this directory is already created, Python will yield an error. Make sure this is a new folder."
   ]
  },
  {
   "cell_type": "code",
   "execution_count": 14,
   "metadata": {},
   "outputs": [
    {
     "name": "stdout",
     "output_type": "stream",
     "text": [
      "['week-04-additional-list-and-for-loop.ipynb', 'lecture notes', 'LICENSE', 'quiz1.html', 'PTSD_dataset.xlsx', 'week-05-application-simulation.ipynb', 'week-03-boolean-if-else.ipynb', 'week-02-jupyter.ipynb', 'quiz1_preparation.html', 'HW1.py', 'test2.py', 'README.md', 'SD_HW3.ipynb', 'HW5.ipynb', 'HW1.ipynb', 'figures', '.venv', 'quiz1_preparation.ipynb', 'Quiz1.ipynb', 'week-02-variables-lists.ipynb', '.ipynb_checkpoints', 'hw5_extension', 'week-03-maths-arrays-random.ipynb', '.git', 'data', 'test.ipynb', 'HW2.ipynb', 'wk2inclass.py', 'SD_HW4.ipynb', '.idea']\n"
     ]
    }
   ],
   "source": [
    "# Write your own code\n",
    "os.mkdir(\"{}/hw5_extension\".format(current_dir))\n",
    "print(os.listdir())"
   ]
  },
  {
   "cell_type": "markdown",
   "metadata": {},
   "source": [
    "#### Now it should be easier for you to load a dataset from any directory.\n",
    "- Load the excel file `PTSD dataset.xlsx` using `pd.read_excel()` again and name it as `ptsd_df`. (1')\n",
    "    - Note that this file is stored under the `data` folder.\n",
    "    - Choose the sheet named `main_dataset`.\n",
    "    - How should you spell out the directory? Use `'{}/data/PTSD data.xlsx'.format(current_dir)`\n",
    "- Select 1st, 2nd, and 5th column names using `.iloc[:, ids_ls]`, where `ids_ls` is a list of relevant indices. (1')\n",
    "- Rename those three columns as a new dataset named `ptsd_sub_df`, save `ptsd_sub_df` under the previous `hw5_extension` folder using `pd.DataFrame.to_excel()` function with a sheet name `columns_1_2_5`, and give it a name as `PTSD Sub Dataset.xlsx`. (1')\n",
    "    - Details can be found https://pandas.pydata.org/docs/reference/api/pandas.DataFrame.to_excel.html.\n",
    "    - There is a similar function for csv known as `read_csv()` and `to_csv()`.\n",
    "- Provide a snapshot that includes your `hw5_extension` and the excel spreadsheet under it. You can save your snapshot under `hw5_extension` for plotting puroses. (1')"
   ]
  },
  {
   "cell_type": "code",
   "execution_count": 18,
   "metadata": {},
   "outputs": [],
   "source": [
    "# Write your own code\n",
    "\n",
    "ptsd_df = pd.read_excel(\"{}/data/PTSD dataset.xlsx\".format(current_dir), sheet_name=\"main_dataset\")\n",
    "\n",
    "ids_ls = [0, 1, 4]\n",
    "ptsd_sub_df = ptsd_df.iloc[:, ids_ls]\n",
    "ptsd_sub_df.to_excel(\"{}/hw5_extension/PTSD Sub Dataset.xlsx\".format(current_dir), \n",
    "                     sheet_name=\"columns_1_2_5\", index=False)\n"
   ]
  },
  {
   "cell_type": "markdown",
   "metadata": {},
   "source": [
    "### Place your snapshot below (Make sure it is a Markdown)"
   ]
  },
  {
   "cell_type": "markdown",
   "metadata": {},
   "source": [
    "For students, fill in the blank here.\n",
    "![Excel Snapshot](hw5_extension/HW5_Excel_Snapshot.png)\n",
    "\n"
   ]
  },
  {
   "cell_type": "code",
   "execution_count": null,
   "metadata": {},
   "outputs": [],
   "source": [
    "#oh my gosh that screenshot is huge I'm so sorry Madeleine "
   ]
  },
  {
   "cell_type": "markdown",
   "metadata": {},
   "source": [
    "## 2. Extension of for loop + if/else statements (7')\n",
    "\n",
    "In the class, we illustrate simulating a $U\\sim Uniform(0,1)$ and set up a cutoff value to generate a binary variable with a certain probability distribution. <br>\n",
    "What if we have three treatment groups with a 2:2:1 ratio?\n",
    "\n",
    "- Suppose we define our `N_total` as 200.\n",
    "- Set a seed value with $100$ (1')\n",
    "- Initialize an empty list (or an array) to save the treatment group id.\n",
    "- To simplify, let's call it $1$, $2$, and $3$, and the proportion of treatment groups 1, 2, and 3 is approximately $2:2:1$.\n",
    "- Write a for loop that iterate `N_total` replications.\n",
    "    - Within each iteration, generate a uniform variable `u_iter`. (1')\n",
    "    - Properly define two cutoff values and apply `if/elif/else` statements to select the corresponding treatment groups (3')\n",
    "- Convert `treatment_ls` to an array and assign it to `treatment_arr`.\n",
    "- Print out the frequency and porportion of three treatment groups. (2')\n",
    "    - The final output should look like\n",
    "    - `Group 1 has X patients (Y%). Group 2 has XX patients (YY%). Group 3 has XXX patients (YYY%)`.\n",
    "    - You can use for loop to simplify, but it is optional."
   ]
  },
  {
   "cell_type": "code",
   "execution_count": 20,
   "metadata": {},
   "outputs": [
    {
     "name": "stdout",
     "output_type": "stream",
     "text": [
      "Group 1 has 87 patients (43.5%).\n",
      "Group 2 has 72 patients (36.0%).\n",
      "Group 3 has 41 patients (20.5%).\n"
     ]
    }
   ],
   "source": [
    "# write you own code\n",
    "#setup\n",
    "N_total= 200 \n",
    "np.random.seed(100) \n",
    "\n",
    "#initialize empty list \n",
    "treatment_ls = [] \n",
    "\n",
    "#setting cutoffs (as fractions I guess instead of ratios) \n",
    "cutoff1 = 2/5 \n",
    "cutoff2 = 4/5 \n",
    "\n",
    "#for loop for distribution \n",
    "for i in range(N_total):\n",
    "    u_iter = np.random.rand()  # uniform(0,1)\n",
    "    \n",
    "    if u_iter < cutoff1:\n",
    "        treatment_ls.append(1)\n",
    "    elif u_iter < cutoff2:\n",
    "        treatment_ls.append(2)\n",
    "    else:\n",
    "        treatment_ls.append(3)\n",
    "\n",
    "#converting list to array \n",
    "treatment_vec = np.array(treatment_ls) \n",
    "\n",
    "#frequency and proportion \n",
    "unique_groups, counts = np.unique(treatment_vec, return_counts=True)\n",
    "proportions = counts / N_total * 100\n",
    "\n",
    "#using a for loop to print to make things easier to read \n",
    "for g, c, p in zip(unique_groups, counts, proportions):\n",
    "    print(f\"Group {g} has {c} patients ({p:.1f}%).\")"
   ]
  },
  {
   "cell_type": "code",
   "execution_count": null,
   "metadata": {},
   "outputs": [],
   "source": []
  }
 ],
 "metadata": {
  "kernelspec": {
   "display_name": "Python 3 (ipykernel)",
   "language": "python",
   "name": "python3"
  },
  "language_info": {
   "codemirror_mode": {
    "name": "ipython",
    "version": 3
   },
   "file_extension": ".py",
   "mimetype": "text/x-python",
   "name": "python",
   "nbconvert_exporter": "python",
   "pygments_lexer": "ipython3",
   "version": "3.13.7"
  },
  "vscode": {
   "interpreter": {
    "hash": "45fc1f684f6f416f40889115beff3ddf69879b64cf4bfee48cb72a61e9d15d1a"
   }
  }
 },
 "nbformat": 4,
 "nbformat_minor": 4
}
