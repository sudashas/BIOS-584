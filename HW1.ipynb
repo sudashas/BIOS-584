{
 "cells": [
  {
   "cell_type": "code",
   "execution_count": 1,
   "id": "c6dceab1-b907-4558-bf22-4a491e81ef01",
   "metadata": {},
   "outputs": [
    {
     "name": "stdout",
     "output_type": "stream",
     "text": [
      "Hello my name is Suhas Das\n"
     ]
    }
   ],
   "source": [
    "print('Hello my name is Suhas Das')"
   ]
  },
  {
   "cell_type": "code",
   "execution_count": null,
   "id": "2f07c9ef-d678-40d0-a928-baa4fab4ef24",
   "metadata": {},
   "outputs": [],
   "source": []
  }
 ],
 "metadata": {
  "kernelspec": {
   "display_name": "Python 3 (ipykernel)",
   "language": "python",
   "name": "python3"
  },
  "language_info": {
   "codemirror_mode": {
    "name": "ipython",
    "version": 3
   },
   "file_extension": ".py",
   "mimetype": "text/x-python",
   "name": "python",
   "nbconvert_exporter": "python",
   "pygments_lexer": "ipython3",
   "version": "3.13.7"
  }
 },
 "nbformat": 4,
 "nbformat_minor": 5
}
