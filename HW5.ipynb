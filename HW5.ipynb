{
 "cells": [
  {
   "attachments": {},
   "cell_type": "markdown",
   "metadata": {},
   "source": [
    "# HW5 (20')"
   ]
  },
  {
   "attachments": {},
   "cell_type": "markdown",
   "metadata": {},
   "source": [
    "## Submit as an HTML or PDF file\n",
    "\n",
    "<font size='4'>\n",
    "\n",
    "A note for PDF file: <br>\n",
    "It seems that we cannot directly save the Jupyter notebook as a PDF file due to a package loading error. <br>\n",
    "One way to achieve it is to: <br>\n",
    "<span style=\"color:red\">Convert it to an HTML file -> Open the HTML file -> Right Click -> Print -> Save as PDF.</span> <br>\n",
    "At least that is how I print out Quiz 2.\n",
    " \n",
    "Print your name (First Name and Last Name) below."
   ]
  },
  {
   "cell_type": "code",
   "execution_count": null,
   "metadata": {},
   "outputs": [],
   "source": []
  },
  {
   "cell_type": "markdown",
   "metadata": {},
   "source": [
    "## 0. Make sure you sync forks and fetch origin the GitHub repository.\n",
    "\n",
    "- In particular, you should see three folders `data`, `figures`, and `lecture notes` under your `XXX/GitHub/BIOS-584` folder."
   ]
  },
  {
   "cell_type": "markdown",
   "metadata": {},
   "source": [
    "## 1. Play with `os` library and basic commands (13')"
   ]
  },
  {
   "attachments": {},
   "cell_type": "markdown",
   "metadata": {},
   "source": [
    "- Import `numpy` and `pandas` library with proper aliases.\n",
    "- Import a new library named `os` (1')\n",
    "- This is the \"operating system\" library\n",
    "    - Helpful for managing folders and special variables\n",
    "    - No need to install\n",
    "    - No need to rename"
   ]
  },
  {
   "cell_type": "code",
   "execution_count": 1,
   "metadata": {},
   "outputs": [],
   "source": [
    "# Write your own code\n"
   ]
  },
  {
   "cell_type": "markdown",
   "metadata": {},
   "source": [
    "- Use the new command `os.getcwd()` to show you the current working directory (CWD) in your computer\n",
    "    - Usually refers to the folder where your Jupyter notebook is stored.\n",
    "    - Assign `os.getcwd()` to a variable called `current_dir` and print it out. (1')\n",
    "    - Note that `current_dir` is a string variable. You can use `type(current_dir)` function or `isinstance(current_dir, str)` to verify."
   ]
  },
  {
   "cell_type": "code",
   "execution_count": 2,
   "metadata": {},
   "outputs": [],
   "source": [
    "# Write your own code\n"
   ]
  },
  {
   "cell_type": "markdown",
   "metadata": {},
   "source": [
    "- After getting the working directory, check the contents in the cwd.\n",
    "- Use the command `os.listdir()` to show you a list of all relevant files under your CWD.\n",
    "- Assign `os.listdir()` to a variable called `files_ls`. (1')\n",
    "- Use a for loop to iterately show the variable name of the entire list. (1')\n",
    "    - Each row will display one file name.\n",
    "    - Each student will have different results."
   ]
  },
  {
   "cell_type": "code",
   "execution_count": 3,
   "metadata": {},
   "outputs": [],
   "source": [
    "# Write your own code\n"
   ]
  },
  {
   "cell_type": "markdown",
   "metadata": {},
   "source": [
    "- You should see a folder called `figures`. We will explore what it is.\n",
    "- Change the working directory as the path to folder `figures` using the command `os.chdir()`.\n",
    "    - Recall that the current working directory is stored using `os.getcwd()` and the output is a string.\n",
    "- Use the format `\"{}/figures\".format(current_dir)` to create the new working directory. Assign the new string to `current_dir_2`  (1')\n",
    "- Verify your previous step using `os.getcwd()` and print it out. (1')\n",
    "- Print out all files under the new directory (No need to use the for loop). (1')"
   ]
  },
  {
   "cell_type": "code",
   "execution_count": 4,
   "metadata": {},
   "outputs": [],
   "source": [
    "# Write your own code\n"
   ]
  },
  {
   "cell_type": "markdown",
   "metadata": {},
   "source": [
    "- Change your working directory back to the original one and verify it (no need to show the files under original directory). (1')\n",
    "    - For Madeline: Since each student has different directories, for this specific problem, check whether this directory is the same as the initial one. If yes, give them the full credit."
   ]
  },
  {
   "cell_type": "code",
   "execution_count": 5,
   "metadata": {},
   "outputs": [],
   "source": [
    "# Write your own code\n"
   ]
  },
  {
   "cell_type": "markdown",
   "metadata": {},
   "source": [
    "- After we change the working directory back to the original one, we learn how to create a new directory (or a new folder).\n",
    "    - Create a new folder named `hw5_extension` under the current working directory.\n",
    "    - Create a string following the format `\"{}/hw5_extension\".format(current_dir)` and use the new command `os.mkdir()`. (1')\n",
    "    - Note that we do not need to assign `os.mkdir()` to a variable. `xxx = os.mkdir()` is wrong.\n",
    "    - If this directory is already created, Python will yield an error. Make sure this is a new folder."
   ]
  },
  {
   "cell_type": "code",
   "execution_count": 6,
   "metadata": {},
   "outputs": [],
   "source": [
    "# Write your own code\n"
   ]
  },
  {
   "cell_type": "markdown",
   "metadata": {},
   "source": [
    "#### Now it should be easier for you to load a dataset from any directory.\n",
    "- Load the excel file `PTSD dataset.xlsx` using `pd.read_excel()` again and name it as `ptsd_df`. (1')\n",
    "    - Note that this file is stored under the `data` folder.\n",
    "    - Choose the sheet named `main_dataset`.\n",
    "    - How should you spell out the directory? Use `'{}/data/PTSD data.xlsx'.format(current_dir)`\n",
    "- Select 1st, 2nd, and 5th column names using `.iloc[:, ids_ls]`, where `ids_ls` is a list of relevant indices. (1')\n",
    "- Rename those three columns as a new dataset named `ptsd_sub_df`, save `ptsd_sub_df` under the previous `hw5_extension` folder using `pd.DataFrame.to_excel()` function with a sheet name `columns_1_2_5`, and give it a name as `PTSD Sub Dataset.xlsx`. (1')\n",
    "    - Details can be found https://pandas.pydata.org/docs/reference/api/pandas.DataFrame.to_excel.html.\n",
    "    - There is a similar function for csv known as `read_csv()` and `to_csv()`.\n",
    "- Provide a snapshot that includes your `hw5_extension` and the excel spreadsheet under it. You can save your snapshot under `hw5_extension` for plotting puroses. (1')"
   ]
  },
  {
   "cell_type": "code",
   "execution_count": 7,
   "metadata": {},
   "outputs": [],
   "source": [
    "# Write your own code\n"
   ]
  },
  {
   "cell_type": "markdown",
   "metadata": {},
   "source": [
    "### Place your snapshot below (Make sure it is a Markdown)"
   ]
  },
  {
   "cell_type": "markdown",
   "metadata": {},
   "source": [
    "For students, fill in the blank here."
   ]
  },
  {
   "cell_type": "markdown",
   "metadata": {},
   "source": [
    "## 2. Extension of for loop + if/else statements (7')\n",
    "\n",
    "In the class, we illustrate simulating a $U\\sim Uniform(0,1)$ and set up a cutoff value to generate a binary variable with a certain probability distribution. <br>\n",
    "What if we have three treatment groups with a 2:2:1 ratio?\n",
    "\n",
    "- Suppose we define our `N_total` as 200.\n",
    "- Set a seed value with $100$ (1')\n",
    "- Initialize an empty list (or an array) to save the treatment group id.\n",
    "- To simplify, let's call it $1$, $2$, and $3$, and the proportion of treatment groups 1, 2, and 3 is approximately $2:2:1$.\n",
    "- Write a for loop that iterate `N_total` replications.\n",
    "    - Within each iteration, generate a uniform variable `u_iter`. (1')\n",
    "    - Properly define two cutoff values and apply `if/elif/else` statements to select the corresponding treatment groups (3')\n",
    "- Convert `treatment_ls` to an array and assign it to `treatment_arr`.\n",
    "- Print out the frequency and porportion of three treatment groups. (2')\n",
    "    - The final output should look like\n",
    "    - `Group 1 has X patients (Y%). Group 2 has XX patients (YY%). Group 3 has XXX patients (YYY%)`.\n",
    "    - You can use for loop to simplify, but it is optional."
   ]
  },
  {
   "cell_type": "code",
   "execution_count": 8,
   "metadata": {},
   "outputs": [],
   "source": [
    "# write you own code\n"
   ]
  }
 ],
 "metadata": {
  "kernelspec": {
   "display_name": "Python 3 (ipykernel)",
   "language": "python",
   "name": "python3"
  },
  "language_info": {
   "codemirror_mode": {
    "name": "ipython",
    "version": 3
   },
   "file_extension": ".py",
   "mimetype": "text/x-python",
   "name": "python",
   "nbconvert_exporter": "python",
   "pygments_lexer": "ipython3",
   "version": "3.11.4"
  },
  "vscode": {
   "interpreter": {
    "hash": "45fc1f684f6f416f40889115beff3ddf69879b64cf4bfee48cb72a61e9d15d1a"
   }
  }
 },
 "nbformat": 4,
 "nbformat_minor": 4
}
